{
 "cells": [
  {
   "cell_type": "code",
   "execution_count": 1,
   "metadata": {},
   "outputs": [
    {
     "name": "stdout",
     "output_type": "stream",
     "text": [
      "['adem.jpg', 'Barack Obama.jpg', 'Bayrem.jpg', 'Donald Trump.jpg', 'Elon Musk.jpg', 'Kais Talbi.jpg', 'Michael Jordan.jpg', 'Steve Jobs.jpg']\n"
     ]
    },
    {
     "name": "stderr",
     "output_type": "stream",
     "text": [
      "C:\\ProgramData\\Anaconda3\\lib\\site-packages\\PIL\\Image.py:962: UserWarning: Palette images with Transparency expressed in bytes should be converted to RGBA images\n",
      "  warnings.warn(\n"
     ]
    },
    {
     "name": "stdout",
     "output_type": "stream",
     "text": [
      "['adem', 'Barack Obama', 'Bayrem', 'Donald Trump', 'Elon Musk', 'Kais Talbi', 'Michael Jordan', 'Steve Jobs']\n"
     ]
    }
   ],
   "source": [
    "import cv2\n",
    "import numpy as np\n",
    "import face_recognition\n",
    "import os\n",
    "from datetime import datetime\n",
    "import win32com.client as win\n",
    "\n",
    "face_classifier = cv2.CascadeClassifier('data/haarcascade_frontalface_default.xml')\n",
    "path = 'Data/known/'\n",
    "images = []\n",
    "known_faces = []\n",
    "known_names = []\n",
    "myList = os.listdir(path)\n",
    "print(myList)\n",
    "for cl in myList:\n",
    "    curImg = cv2.imread(f'{path}/{cl}')\n",
    "    images.append(curImg)\n",
    "    known_names.append(os.path.splitext(cl)[0])\n",
    "    #img = face_recognition.load_image_file(f'{path}/{cl}')\n",
    "    img = face_recognition.load_image_file(path+cl)\n",
    "    encoding = face_recognition.face_encodings(img)[0]\n",
    "    known_faces.append(encoding)\n",
    "\n",
    "print(known_names)\n",
    "\n",
    "def markAttendance(name):\n",
    "    with open('data/attendance/auto_attendance.csv','r+') as f:\n",
    "        myDataList = f.readlines()\n",
    "        nameList = []\n",
    "        for line in myDataList:\n",
    "            entry = line.split(',')\n",
    "            nameList.append(entry[0])\n",
    "            if name not in nameList:\n",
    "                now = datetime.now()\n",
    "                dtString = now.strftime('%H:%M:%S')\n",
    "                f.writelines(f'\\n{name},{dtString}')\n",
    "                speak=win.Dispatch(\"SAPI.spVoice\")\n",
    "                speak.rate=-1\n",
    "                speak.speak(name)"
   ]
  },
  {
   "cell_type": "code",
   "execution_count": 2,
   "metadata": {},
   "outputs": [],
   "source": [
    "cap = cv2.VideoCapture(0)\n",
    " \n",
    "while True:\n",
    "    success, img = cap.read()\n",
    "    \"\"\"\n",
    "    cap.set(3, 800) # set video widht\n",
    "    cap.set(4, 600)\n",
    "    # Define min window size to be recognized as a face\n",
    "    minW = 0.1*cap.get(3)\n",
    "    minH = 0.1*cap.get(4)\n",
    "    \"\"\"\n",
    "    #imgS = cv2.cvtColor(img, cv2.COLOR_RGB2BGR)\n",
    "    imgS = cv2.cvtColor(img, cv2.COLOR_BGR2RGB)\n",
    "\n",
    "    facesCurFrame = face_recognition.face_locations(imgS)\n",
    "    #facesCurFrame = face_classifier.detectMultiScale(imgS, scaleFactor = 1.5, minNeighbors = 5)\n",
    "\n",
    "    encodesCurFrame = face_recognition.face_encodings(imgS,facesCurFrame)\n",
    "\n",
    "    for encodeFace,faceLoc in zip(encodesCurFrame,facesCurFrame):\n",
    "        matches = face_recognition.compare_faces(known_faces,encodeFace)\n",
    "        faceDis = face_recognition.face_distance(known_faces,encodeFace)\n",
    "        try :\n",
    "            matchIndex =  matches.index(True)   \n",
    "        except:\n",
    "            matchIndex = (False)\n",
    "        #y1,x2,y2,x1 = faceLoc\n",
    "        x, y, w, h = faceLoc\n",
    "        #cv2.rectangle(img,(x1,y1),(x2,y2),(0,255,0),2)\n",
    "        cv2.rectangle(img,(x,y),(w,h),(255,0,0),1)\n",
    "        match = []\n",
    "        for ele in enumerate(matches): \n",
    "            match.append(ele)\n",
    "        #print (match)\n",
    "        #print (match[matchIndex])\n",
    "        font = cv2.FONT_HERSHEY_SIMPLEX\n",
    "        color = (127,63,0)\n",
    "        if match[matchIndex]:\n",
    "            #matchIndex.index(True)\n",
    "            name = known_names[matchIndex].upper()\n",
    "            #print(name)\n",
    "            markAttendance(name)\n",
    "            #cv2.putText(img,name,(x1+6,y2+15),cv2.FONT_HERSHEY_COMPLEX,0.5,(255,255,255),1)\n",
    "            cv2.putText(img,  name, (int(w+15), int(h-64)), font, 1, color, 2)\n",
    "            #connect face and text\n",
    "            cv2.line(img,(w, h-64),(w-25, h-64),color,1)\n",
    "            cv2.line(img,(int(x),h),(w-25,h-64),color,1)\n",
    "            speak=win.Dispatch(\"SAPI.spVoice\")\n",
    "            speak.rate=-1\n",
    "            \n",
    "        #else : \n",
    "        if facesCurFrame is True and matchIndex is False :\n",
    "            name = 'Unknown'\n",
    "            #print(name)   \n",
    "            #cv2.putText(img,name,(x1+6,y2+15),cv2.FONT_HERSHEY_COMPLEX,0.5,(255,255,255),1)\n",
    "            cv2.putText(img,  name, (int(x+w+15), int(y-64)), font, 1, color, 2)\n",
    "            #connect face and text\n",
    "            cv2.line(img,(x+w, y-64),(x+w-25, y-64),color,1)\n",
    "            cv2.line(img,(int(x+w/2),y),(x+w-25,y-64),color,1)\n",
    "            markAttendance(name)\n",
    "            speak=win.Dispatch(\"SAPI.spVoice\")\n",
    "            speak.rate=-1\n",
    "    #speak.speak(name)\n",
    "\n",
    "    cv2.imshow('Webcam',img)\n",
    "    key = cv2.waitKey(1)\n",
    "    if key == 13:\n",
    "        break\n",
    "    \n",
    "cap.release()\n",
    "cv2.destroyAllWindows()  "
   ]
  },
  {
   "cell_type": "code",
   "execution_count": 16,
   "metadata": {},
   "outputs": [],
   "source": [
    "#with open('data/auto_attendance.csv','w+') as f:\n",
    "    #pass  "
   ]
  },
  {
   "cell_type": "code",
   "execution_count": 1,
   "metadata": {},
   "outputs": [
    {
     "name": "stderr",
     "output_type": "stream",
     "text": [
      "Using TensorFlow backend.\n"
     ]
    },
    {
     "name": "stdout",
     "output_type": "stream",
     "text": [
      "Tensor Flow Version: 2.4.0\n",
      "Keras Version: 2.4.0\n",
      "Keras Version: 2.3.0\n",
      "\n",
      "Python 3.8.5 (default, Sep  3 2020, 21:29:08) [MSC v.1916 64 bit (AMD64)]\n",
      "Pandas 1.2.0\n",
      "Scikit-Learn 0.24.0\n",
      "GPU is NOT AVAILABLE\n"
     ]
    }
   ],
   "source": [
    "from tensorflow.python.client import device_lib\n",
    "import sys\n",
    "\n",
    "import tensorflow.keras\n",
    "import pandas as pd\n",
    "import sklearn as sk\n",
    "import tensorflow as tf\n",
    "import keras\n",
    "\n",
    "print(f\"Tensor Flow Version: {tf.__version__}\")\n",
    "print(f\"Keras Version: {tensorflow.keras.__version__}\")\n",
    "print(f\"Keras Version: {keras.__version__}\")\n",
    "print()\n",
    "print(f\"Python {sys.version}\")\n",
    "print(f\"Pandas {pd.__version__}\")\n",
    "print(f\"Scikit-Learn {sk.__version__}\")\n",
    "print(\"GPU is\", \"available\" if tf.config.list_physical_devices('GPU') else \"NOT AVAILABLE\")"
   ]
  },
  {
   "cell_type": "code",
   "execution_count": 2,
   "metadata": {},
   "outputs": [
    {
     "name": "stdout",
     "output_type": "stream",
     "text": [
      "[name: \"/device:CPU:0\"\n",
      "device_type: \"CPU\"\n",
      "memory_limit: 268435456\n",
      "locality {\n",
      "}\n",
      "incarnation: 4722421676600261334\n",
      "]\n"
     ]
    }
   ],
   "source": [
    "from tensorflow.python.client import device_lib\n",
    "print(device_lib.list_local_devices())"
   ]
  },
  {
   "cell_type": "code",
   "execution_count": 3,
   "metadata": {},
   "outputs": [],
   "source": [
    "import os\n",
    "os.environ['TF_CPP_MIN_LOG_LEVEL']='2'"
   ]
  },
  {
   "cell_type": "code",
   "execution_count": 5,
   "metadata": {},
   "outputs": [
    {
     "name": "stdout",
     "output_type": "stream",
     "text": [
      "WARNING:tensorflow:From C:\\ProgramData\\Anaconda3\\lib\\site-packages\\tensorflow\\python\\compat\\v2_compat.py:96: disable_resource_variables (from tensorflow.python.ops.variable_scope) is deprecated and will be removed in a future version.\n",
      "Instructions for updating:\n",
      "non-resource variables are not supported in the long term\n",
      "Output:b'Hello World'\n"
     ]
    }
   ],
   "source": [
    "from __future__ import print_function\n",
    "import tensorflow.compat.v1 as tf\n",
    "tf.disable_v2_behavior()\n",
    "import os\n",
    "os.environ['TF_CPP_MIN_LOG_LEVEL']='2'\n",
    "a = tf.constant(\"Hello World\")\n",
    "session = tf.Session()\n",
    "output = session.run(a)\n",
    "print('Output:' + str(output))"
   ]
  },
  {
   "cell_type": "code",
   "execution_count": null,
   "metadata": {},
   "outputs": [],
   "source": []
  }
 ],
 "metadata": {
  "kernelspec": {
   "display_name": "Python 3",
   "language": "python",
   "name": "python3"
  },
  "language_info": {
   "codemirror_mode": {
    "name": "ipython",
    "version": 3
   },
   "file_extension": ".py",
   "mimetype": "text/x-python",
   "name": "python",
   "nbconvert_exporter": "python",
   "pygments_lexer": "ipython3",
   "version": "3.8.5"
  }
 },
 "nbformat": 4,
 "nbformat_minor": 4
}
