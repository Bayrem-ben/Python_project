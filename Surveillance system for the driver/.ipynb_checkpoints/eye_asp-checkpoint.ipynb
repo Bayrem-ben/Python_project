{
 "cells": [
  {
   "cell_type": "code",
   "execution_count": 1,
   "metadata": {},
   "outputs": [],
   "source": [
    "import cv2\n",
    "import numpy as np\n",
    "import matplotlib.pyplot as plt\n",
    "import dlib"
   ]
  },
  {
   "cell_type": "code",
   "execution_count": 2,
   "metadata": {},
   "outputs": [
    {
     "data": {
      "text/plain": [
       "'\\n# Downloading and unzipping facial landmark predictor\\n!wget http://dlib.net/files/shape_predictor_68_face_landmarks.dat.bz2\\n!bunzip2 \"shape_predictor_68_face_landmarks.dat.bz2\"\\n'"
      ]
     },
     "execution_count": 2,
     "metadata": {},
     "output_type": "execute_result"
    }
   ],
   "source": [
    " # Initializing the face detector and facial landmark predictor \n",
    "detector = dlib.get_frontal_face_detector()\n",
    "predictor = dlib.shape_predictor(\"data/shape_predictor_68_face_landmarks.dat\")\n",
    "\"\"\"\n",
    "# Downloading and unzipping facial landmark predictor\n",
    "!wget http://dlib.net/files/shape_predictor_68_face_landmarks.dat.bz2\n",
    "!bunzip2 \"shape_predictor_68_face_landmarks.dat.bz2\"\n",
    "\"\"\""
   ]
  },
  {
   "cell_type": "code",
   "execution_count": 3,
   "metadata": {},
   "outputs": [],
   "source": [
    "# Creating a VidoCapture and VideoWriter object\n",
    "cap=cv2.VideoCapture(\"Blinking.mp4\")\n",
    "fourcc = cv2.VideoWriter_fourcc('M', 'P', '4', 'V')\n",
    "out = cv2.VideoWriter('output.mp4', fourcc, 29, (720,1080))\n",
    "font=cv2.FONT_HERSHEY_SIMPLEX\n",
    "# Creating a while loop\n",
    "while True:\n",
    "    ret, frame = cap.read() \n",
    "    if ret == False:\n",
    "        break\n",
    "# Converting a color frame into a grayscale frame\n",
    "    gray = cv2.cvtColor(frame, cv2.COLOR_BGR2GRAY)\n",
    "# Creating an object in which we will sore detected faces\n",
    "    faces = detector(gray)\n",
    "    for face in faces:\n",
    "        x, y = face.left(), face.top()\n",
    "        x1, y1 = face.right(), face.bottom()\n",
    "# Creating an object in which we will store the detected facial landmarks\n",
    "        landmarks = predictor(gray, face)"
   ]
  },
  {
   "cell_type": "code",
   "execution_count": 4,
   "metadata": {},
   "outputs": [],
   "source": [
    "# Defining the mid-point\n",
    "def midpoint(p1 ,p2):\n",
    "    return int((p1.x + p2.x)/2), int((p1.y + p2.y)/2)\n",
    "# Defining the Euclidean distance\n",
    "def euclidean_distance(leftx,lefty, rightx, righty):\n",
    "    return np.sqrt((leftx-rightx)**2 +(lefty-righty)**2)\n",
    "# Defining the eye aspect ratio\n",
    "def get_EAR(eye_points, facial_landmarks):\n",
    "# Defining the left point of the eye   \n",
    "    left_point = [facial_landmarks.part(eye_points[0]).x, facial_landmarks.part(eye_points[0]).y]\n",
    "# Defining the right point of the eye   \n",
    "    right_point = [facial_landmarks.part(eye_points[3]).x, facial_landmarks.part(eye_points[3]).y]\n",
    "# Defining the top mid-point of the eye    \n",
    "    center_top = midpoint(facial_landmarks.part(eye_points[1]), facial_landmarks.part(eye_points[2]))\n",
    "# Defining the bottom mid-point of the eye   \n",
    "    center_bottom = midpoint(facial_landmarks.part(eye_points[5]), facial_landmarks.part(eye_points[4]))\n",
    "# Drawing horizontal and vertical line       \n",
    "    hor_line = cv2.line(frame, (left_point[0], left_point[1]), (right_point[0], right_point[1]), (255, 0, 0), 3)\n",
    "    ver_line = cv2.line(frame, (center_top[0], center_top[1]),(center_bottom[0], center_bottom[1]), (255, 0, 0), 3)\n",
    " # Calculating length of the horizontal and vertical line    \n",
    "    hor_line_lenght = euclidean_distance(left_point[0], left_point[1], right_point[0], right_point[1])\n",
    "    ver_line_lenght = euclidean_distance(center_top[0], center_top[1], center_bottom[0], center_bottom[1])\n",
    " # Calculating eye aspect ratio     \n",
    "    EAR = ver_line_lenght / hor_line_lenght\n",
    "    return EAR"
   ]
  },
  {
   "cell_type": "code",
   "execution_count": 5,
   "metadata": {},
   "outputs": [],
   "source": [
    "# Creating a list eye_blink_signal\n",
    "eye_blink_signal=[]\n",
    "# Creating an object blink_ counter\n",
    "blink_counter = 0\n",
    "previous_ratio = 100\n",
    "# Creating a while loop\n",
    "while True:\n",
    "    ret, frame = cap.read() \n",
    "    if ret == False:\n",
    "        break\n",
    "# Converting a color frame into a grayscale frame  \n",
    "    gray = cv2.cvtColor(frame, cv2.COLOR_BGR2GRAY)\n",
    "# Creating an object in which we will sore detected faces  \n",
    "    faces = detector(gray)\n",
    "    for face in faces:\n",
    "        x, y = face.left(), face.top()\n",
    "        x1, y1 = face.right(), face.bottom()\n",
    "# Creating an object in which we will sore detected facial landmarks\n",
    "        landmarks = predictor(gray, face)\n",
    "# Calculating left eye aspect ratio    \n",
    "        left_eye_ratio = get_EAR([36, 37, 38, 39, 40, 41], landmarks)\n",
    "# Calculating right eye aspect ratio  \n",
    "        right_eye_ratio = get_EAR([42, 43, 44, 45, 46, 47], landmarks)\n",
    "# Calculating aspect ratio for both eyes  \n",
    "        blinking_ratio = (left_eye_ratio + right_eye_ratio) / 2\n",
    "# Rounding blinking_ratio on two decimal places   \n",
    "        blinking_ratio_1 = blinking_ratio * 100\n",
    "        blinking_ratio_2 = np.round(blinking_ratio_1)\n",
    "        blinking_ratio_rounded = blinking_ratio_2 / 100\n",
    "# Appending blinking ratio to a list eye_blink_signal\n",
    "        eye_blink_signal.append(blinking_ratio)\n",
    "        if blinking_ratio < 0.20:\n",
    "            if previous_ratio > 0.20:\n",
    "                blink_counter = blink_counter + 1\n",
    "# Displaying blink counter and blinking ratio in our output video      \n",
    "        eye_blink_signal=[]\n",
    "        eye_blink_signal.append(blinking_ratio)\n",
    "        plt.plot(eye_blink_signal)\n",
    "    previous_ratio = blinking_ratio\n",
    "  \n",
    "    cv2.putText(frame, str(blink_counter), (30, 50), font, 2, (0, 0, 255),5)\n",
    "    cv2.putText(frame, str(blinking_ratio_rounded), (900, 50), font, 2, (0, 0, 255),5)\n",
    "\n",
    "    if cv2.waitKey(1) == 13: #13 is the Enter Key\n",
    "        break\n",
    "out.write(frame)\n",
    "out.release()"
   ]
  },
  {
   "cell_type": "code",
   "execution_count": null,
   "metadata": {},
   "outputs": [],
   "source": []
  },
  {
   "cell_type": "code",
   "execution_count": null,
   "metadata": {},
   "outputs": [],
   "source": []
  }
 ],
 "metadata": {
  "kernelspec": {
   "display_name": "Python 3",
   "language": "python",
   "name": "python3"
  },
  "language_info": {
   "codemirror_mode": {
    "name": "ipython",
    "version": 3
   },
   "file_extension": ".py",
   "mimetype": "text/x-python",
   "name": "python",
   "nbconvert_exporter": "python",
   "pygments_lexer": "ipython3",
   "version": "3.8.3"
  }
 },
 "nbformat": 4,
 "nbformat_minor": 4
}
