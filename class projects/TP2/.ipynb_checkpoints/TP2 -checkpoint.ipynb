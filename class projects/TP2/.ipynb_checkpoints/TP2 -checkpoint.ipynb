{
 "cells": [
  {
   "cell_type": "markdown",
   "metadata": {},
   "source": [
    "                                           TP2 DATA CLEANING"
   ]
  },
  {
   "cell_type": "markdown",
   "metadata": {},
   "source": [
    "**Write your names in the cell below**"
   ]
  },
  {
   "cell_type": "code",
   "execution_count": null,
   "metadata": {},
   "outputs": [],
   "source": []
  },
  {
   "cell_type": "code",
   "execution_count": null,
   "metadata": {},
   "outputs": [],
   "source": []
  },
  {
   "cell_type": "markdown",
   "metadata": {},
   "source": [
    "**Write names of the 4 variables assigned to your group** (based on file variable_assignments.txt)"
   ]
  },
  {
   "cell_type": "raw",
   "metadata": {},
   "source": [
    "Group 10"
   ]
  },
  {
   "cell_type": "markdown",
   "metadata": {},
   "source": [
    "****"
   ]
  },
  {
   "cell_type": "markdown",
   "metadata": {},
   "source": [
    "## Overview of the Data"
   ]
  },
  {
   "cell_type": "markdown",
   "metadata": {},
   "source": [
    "The BRFSS (Behavioral Risk Factor Surveillance System) data was collected during the period 2013-2014 via monthly telephone-based surveys of randomly selected persons in the US. The rows in this data represent unique persons and the columns represent various demographic, life style, behavioral and health-related information about the interviewed persons.  Data website: https://www.cdc.gov/brfss/annual_data/annual_2013.html\n",
    "\n",
    "All variables in this dataset are coded (represented) with numeric values, but many of them are truly categorical."
   ]
  },
  {
   "cell_type": "markdown",
   "metadata": {},
   "source": [
    "****"
   ]
  },
  {
   "cell_type": "markdown",
   "metadata": {},
   "source": [
    "<font color='red'> **Files you will need ** </font> \n",
    "\n",
    "- File `brfss2013_sub.csv` : contains the data.\n",
    "- File `data_codebook.html` : contains information about the data variables.\n",
    "- File `variable_assignments.txt` : contains names of variables assigned to each group.\n",
    "- File `TP2_Data_Cleaning.ipynb` : contains source code."
   ]
  },
  {
   "cell_type": "markdown",
   "metadata": {},
   "source": [
    "<font color='red'> **What you will do** </font> \n",
    "\n",
    "- Follow the instructions below and answer the questions.\n",
    "\n",
    "- Your answers will generally consist of a mix of code and explanations.\n",
    "\n",
    "- Feel free to create new cells to write your answers.\n",
    "\n",
    "- Submit your modified .ipynb file containing your answers to the questions below."
   ]
  },
  {
   "cell_type": "markdown",
   "metadata": {},
   "source": [
    "******"
   ]
  },
  {
   "cell_type": "markdown",
   "metadata": {},
   "source": [
    "## Useful functions and methods"
   ]
  },
  {
   "cell_type": "markdown",
   "metadata": {},
   "source": [
    "\n",
    "**Data exploration**\n",
    "\n",
    "- head, shape, columns, describe, value_counts, unique, nunique, plot\n",
    "\n",
    "**Data type conversions**\n",
    "\n",
    "- `pd.to_numeric` (Pandas function)\n",
    "- `astype` (Pandas method)\n",
    "\n",
    "**Dealing with missing values**\n",
    "- `isna` (Pandas method)\n",
    "- `fillna` (Pandas method)\n",
    "- `dropna` (Pandas method)"
   ]
  },
  {
   "cell_type": "markdown",
   "metadata": {},
   "source": [
    "*****"
   ]
  },
  {
   "cell_type": "markdown",
   "metadata": {},
   "source": [
    "- to execute a cell, <font color='red'>shift+enter</font>\n",
    "- to insert a new cell, press the <font color='red'>**+** button</font> in the top menu\n",
    "- to obtain <font color='red'>help</font> about any method or function use ?\n",
    "\n",
    "?pd.read_csv\n",
    "\n",
    "?df.idate.isnull"
   ]
  },
  {
   "cell_type": "markdown",
   "metadata": {},
   "source": [
    "## Part 1: Read the Data\n",
    "\n",
    "Answer the following questions.  You need to write python code for some questions.\n",
    "\n",
    "1. Read the data in file `brfss2013_sub.csv` and store it in a data frame called `df`\n",
    "2. How many rows and columns are in this data frame?\n",
    "3. What are the names and true types of the first 5 columns?\n",
    "4. Are any of these first 5 columns useful for ML? Explain."
   ]
  },
  {
   "cell_type": "code",
   "execution_count": 22,
   "metadata": {},
   "outputs": [],
   "source": [
    "import pandas as pd\n",
    "import numpy as np\n",
    "import matplotlib.pyplot as plt\n",
    "import seaborn as sns"
   ]
  },
  {
   "cell_type": "code",
   "execution_count": 34,
   "metadata": {},
   "outputs": [],
   "source": [
    "df = pd.read_csv ('./brfss2013_sub.csv')"
   ]
  },
  {
   "cell_type": "code",
   "execution_count": 35,
   "metadata": {},
   "outputs": [
    {
     "data": {
      "text/plain": [
       "(100000, 91)"
      ]
     },
     "execution_count": 35,
     "metadata": {},
     "output_type": "execute_result"
    }
   ],
   "source": [
    "df.shape"
   ]
  },
  {
   "cell_type": "code",
   "execution_count": 36,
   "metadata": {},
   "outputs": [
    {
     "data": {
      "text/plain": [
       "idate     int64\n",
       "imonth    int64\n",
       "iday      int64\n",
       "iyear     int64\n",
       "dtype: object"
      ]
     },
     "execution_count": 36,
     "metadata": {},
     "output_type": "execute_result"
    }
   ],
   "source": [
    "df.iloc[:,:4].dtypes"
   ]
  },
  {
   "cell_type": "code",
   "execution_count": 37,
   "metadata": {},
   "outputs": [
    {
     "data": {
      "text/html": [
       "<div>\n",
       "<style scoped>\n",
       "    .dataframe tbody tr th:only-of-type {\n",
       "        vertical-align: middle;\n",
       "    }\n",
       "\n",
       "    .dataframe tbody tr th {\n",
       "        vertical-align: top;\n",
       "    }\n",
       "\n",
       "    .dataframe thead th {\n",
       "        text-align: right;\n",
       "    }\n",
       "</style>\n",
       "<table border=\"1\" class=\"dataframe\">\n",
       "  <thead>\n",
       "    <tr style=\"text-align: right;\">\n",
       "      <th></th>\n",
       "      <th>idate</th>\n",
       "      <th>imonth</th>\n",
       "      <th>iday</th>\n",
       "      <th>iyear</th>\n",
       "      <th>dispcode</th>\n",
       "    </tr>\n",
       "  </thead>\n",
       "  <tbody>\n",
       "    <tr>\n",
       "      <th>0</th>\n",
       "      <td>4302013</td>\n",
       "      <td>4</td>\n",
       "      <td>30</td>\n",
       "      <td>2013</td>\n",
       "      <td>1100</td>\n",
       "    </tr>\n",
       "    <tr>\n",
       "      <th>1</th>\n",
       "      <td>4242013</td>\n",
       "      <td>4</td>\n",
       "      <td>24</td>\n",
       "      <td>2013</td>\n",
       "      <td>1100</td>\n",
       "    </tr>\n",
       "    <tr>\n",
       "      <th>2</th>\n",
       "      <td>10232013</td>\n",
       "      <td>10</td>\n",
       "      <td>23</td>\n",
       "      <td>2013</td>\n",
       "      <td>1100</td>\n",
       "    </tr>\n",
       "    <tr>\n",
       "      <th>3</th>\n",
       "      <td>1192013</td>\n",
       "      <td>1</td>\n",
       "      <td>19</td>\n",
       "      <td>2013</td>\n",
       "      <td>1100</td>\n",
       "    </tr>\n",
       "    <tr>\n",
       "      <th>4</th>\n",
       "      <td>12052013</td>\n",
       "      <td>12</td>\n",
       "      <td>5</td>\n",
       "      <td>2013</td>\n",
       "      <td>1100</td>\n",
       "    </tr>\n",
       "    <tr>\n",
       "      <th>...</th>\n",
       "      <td>...</td>\n",
       "      <td>...</td>\n",
       "      <td>...</td>\n",
       "      <td>...</td>\n",
       "      <td>...</td>\n",
       "    </tr>\n",
       "    <tr>\n",
       "      <th>99995</th>\n",
       "      <td>10222013</td>\n",
       "      <td>10</td>\n",
       "      <td>22</td>\n",
       "      <td>2013</td>\n",
       "      <td>1100</td>\n",
       "    </tr>\n",
       "    <tr>\n",
       "      <th>99996</th>\n",
       "      <td>12112013</td>\n",
       "      <td>12</td>\n",
       "      <td>11</td>\n",
       "      <td>2013</td>\n",
       "      <td>1100</td>\n",
       "    </tr>\n",
       "    <tr>\n",
       "      <th>99997</th>\n",
       "      <td>1082013</td>\n",
       "      <td>1</td>\n",
       "      <td>8</td>\n",
       "      <td>2013</td>\n",
       "      <td>1100</td>\n",
       "    </tr>\n",
       "    <tr>\n",
       "      <th>99998</th>\n",
       "      <td>5132013</td>\n",
       "      <td>5</td>\n",
       "      <td>13</td>\n",
       "      <td>2013</td>\n",
       "      <td>1100</td>\n",
       "    </tr>\n",
       "    <tr>\n",
       "      <th>99999</th>\n",
       "      <td>11192013</td>\n",
       "      <td>11</td>\n",
       "      <td>19</td>\n",
       "      <td>2013</td>\n",
       "      <td>1100</td>\n",
       "    </tr>\n",
       "  </tbody>\n",
       "</table>\n",
       "<p>100000 rows × 5 columns</p>\n",
       "</div>"
      ],
      "text/plain": [
       "          idate  imonth  iday  iyear  dispcode\n",
       "0       4302013       4    30   2013      1100\n",
       "1       4242013       4    24   2013      1100\n",
       "2      10232013      10    23   2013      1100\n",
       "3       1192013       1    19   2013      1100\n",
       "4      12052013      12     5   2013      1100\n",
       "...         ...     ...   ...    ...       ...\n",
       "99995  10222013      10    22   2013      1100\n",
       "99996  12112013      12    11   2013      1100\n",
       "99997   1082013       1     8   2013      1100\n",
       "99998   5132013       5    13   2013      1100\n",
       "99999  11192013      11    19   2013      1100\n",
       "\n",
       "[100000 rows x 5 columns]"
      ]
     },
     "execution_count": 37,
     "metadata": {},
     "output_type": "execute_result"
    }
   ],
   "source": [
    "c = df.iloc[:, :5]\n",
    "c"
   ]
  },
  {
   "cell_type": "raw",
   "metadata": {},
   "source": [
    "I think idate column is useful for ML"
   ]
  },
  {
   "cell_type": "markdown",
   "metadata": {},
   "source": [
    "******"
   ]
  },
  {
   "cell_type": "markdown",
   "metadata": {},
   "source": [
    "## Part 2: Data Exploration and Cleaning\n",
    "\n",
    "Answer the questions below.\n",
    "\n",
    "1. Create a list called `my_vars_names` containing the names of the 4 variables that were assigned to your group.\n",
    "\n",
    "2. Create a new data frame called `my_df` as a subset of `df` containing only the columns in `my_vars_names`.\n",
    "\n",
    "3. Verify the shape of this new data frame; Make sure its number of rows is the same as in `df`.\n",
    "\n",
    "4. Determine the **true** type of each variable based on its description in file `data_codebook.html`; is it *categorical*, *discrete*, *continuous*, or **other** ?\n",
    "\n",
    "5. For each truly *categorical* variable, convert it to the *category* type by calling the `astype` method ...\n",
    "\n",
    "6. For each numeric variable, determine the unit(s) of measurement of its values based on the description in file `data_codebook.html`. For example: number of times per week; kilograms, etc.  **Be careful**: some variables contain values with different measurement units. For example, the **weight2** variable contains both values in *pounds* and values in *kilograms*! ...\n",
    "\n",
    "7. For each numeric variable, determine whether it contains any invalid values; that is, values that are inconsistent with the variable's description in file `data_codebook.html`. **Hint**: the `describe` and `unique` methods are helpful ...\n",
    "\n",
    "8. For each numeric variable, determine whether it contains outliers. **Hint1**: start by visualizing the distribution of the variable using a boxplot or histogram.  **Hint2**: if your variable has multiple units of measurement, use different plots for different units ...\n",
    "\n",
    "9. For each categorical variable, how many categories does it have? **Hint**: call the `nunique` and/or `value_counts` methods ...\n",
    "\n",
    "10. For each variable, if it contains **implicitly** encoded missing values, then replace those values with the explicit NAN value `np.nan`\n",
    "\n",
    "11. How many missing values does each variable contain? **Hint**: call the `isnull` method followed by the `sum` method ...\n",
    "\n",
    "12. Which variables should be removed because they contain too many missing values (more than 30%)?  **Hint**: call `isnull` followed by `mean` in order to obtain the fraction of missing values for each variable.\n",
    "\n",
    "13. Remove all variables from `my_df` that contain more than 30% missing values. Put the result in a new data frame called `my_df_without_noisy_variables`. Display the shape of this data frame.\n",
    "\n",
    "14. Remove all rows from `my_df` that contain missing values by calling the `dropna` method. Put the result in a new data frame called `my_df_without_missing`.  Display the shape of this new data frame.  **Hint**: carefully read the documentation of the `dropna` method using the command `?my_df.dropna`.\n",
    "\n",
    "15. Based on the result of the previous question, do you think it's a good idea to handle missing values by removing the entire row? Explain.\n",
    "\n",
    "16. For each numeric variable that has less than 30% missing values, replace its missing values with its *median* value, and put the result in the SAME data frame `my_df`. You should call the `fillna` method SEPARATELY on each variable, with the parameter `inplace=True`.\n",
    "\n",
    "17. For each categorical variable that has less than 30% missing values, replace its missing values with the *most frequent* value and put the result in the SAME data frame `my_df`, by calling the `fillna` method SEPARATELY on each variable, with `inplace=True`."
   ]
  },
  {
   "cell_type": "code",
   "execution_count": 68,
   "metadata": {},
   "outputs": [
    {
     "data": {
      "text/plain": [
       "['chcscncr', 'qlactlm2', 'poorhlth', 'fruit1']"
      ]
     },
     "execution_count": 68,
     "metadata": {},
     "output_type": "execute_result"
    }
   ],
   "source": [
    "my_vars_names = ['chcscncr','qlactlm2','poorhlth','fruit1']\n",
    "my_vars_names"
   ]
  },
  {
   "cell_type": "code",
   "execution_count": 69,
   "metadata": {},
   "outputs": [],
   "source": [
    "my_df = df[my_vars_names]"
   ]
  },
  {
   "cell_type": "code",
   "execution_count": 70,
   "metadata": {},
   "outputs": [
    {
     "data": {
      "text/plain": [
       "(100000, 4)"
      ]
     },
     "execution_count": 70,
     "metadata": {},
     "output_type": "execute_result"
    }
   ],
   "source": [
    "my_df.shape"
   ]
  },
  {
   "cell_type": "code",
   "execution_count": 71,
   "metadata": {},
   "outputs": [
    {
     "data": {
      "text/plain": [
       "chcscncr      int64\n",
       "qlactlm2    float64\n",
       "poorhlth    float64\n",
       "fruit1      float64\n",
       "dtype: object"
      ]
     },
     "execution_count": 71,
     "metadata": {},
     "output_type": "execute_result"
    }
   ],
   "source": [
    "my_df.dtypes"
   ]
  },
  {
   "cell_type": "code",
   "execution_count": 72,
   "metadata": {},
   "outputs": [
    {
     "data": {
      "text/plain": [
       "chcscncr    category\n",
       "qlactlm2    category\n",
       "poorhlth    category\n",
       "fruit1      category\n",
       "dtype: object"
      ]
     },
     "execution_count": 72,
     "metadata": {},
     "output_type": "execute_result"
    }
   ],
   "source": [
    "my_df = my_df.astype('category').dtypes\n",
    "my_df"
   ]
  },
  {
   "cell_type": "code",
   "execution_count": 75,
   "metadata": {},
   "outputs": [
    {
     "ename": "AttributeError",
     "evalue": "'CategoricalDtype' object has no attribute 'nunique'",
     "output_type": "error",
     "traceback": [
      "\u001b[1;31m---------------------------------------------------------------------------\u001b[0m",
      "\u001b[1;31mAttributeError\u001b[0m                            Traceback (most recent call last)",
      "\u001b[1;32m<ipython-input-75-faac64e0bcb1>\u001b[0m in \u001b[0;36m<module>\u001b[1;34m\u001b[0m\n\u001b[1;32m----> 1\u001b[1;33m \u001b[0mprint\u001b[0m\u001b[1;33m(\u001b[0m\u001b[1;34m\"\\nNumber of unique elements in 'numwomen': \"\u001b[0m\u001b[1;33m,\u001b[0m \u001b[0mmy_df\u001b[0m\u001b[1;33m.\u001b[0m\u001b[0mchcscncr\u001b[0m\u001b[1;33m.\u001b[0m\u001b[0mnunique\u001b[0m\u001b[1;33m(\u001b[0m\u001b[1;33m)\u001b[0m\u001b[1;33m)\u001b[0m\u001b[1;33m\u001b[0m\u001b[1;33m\u001b[0m\u001b[0m\n\u001b[0m",
      "\u001b[1;31mAttributeError\u001b[0m: 'CategoricalDtype' object has no attribute 'nunique'"
     ]
    }
   ],
   "source": [
    "print(\"\\nNumber of unique elements in 'numwomen': \", my_df.chcscncr.nunique())"
   ]
  },
  {
   "cell_type": "code",
   "execution_count": 61,
   "metadata": {},
   "outputs": [
    {
     "ename": "AttributeError",
     "evalue": "'CategoricalDtype' object has no attribute 'unique'",
     "output_type": "error",
     "traceback": [
      "\u001b[1;31m---------------------------------------------------------------------------\u001b[0m",
      "\u001b[1;31mAttributeError\u001b[0m                            Traceback (most recent call last)",
      "\u001b[1;32m<ipython-input-61-492acce0d425>\u001b[0m in \u001b[0;36m<module>\u001b[1;34m\u001b[0m\n\u001b[1;32m----> 1\u001b[1;33m \u001b[0mprint\u001b[0m\u001b[1;33m(\u001b[0m\u001b[0mmy_df\u001b[0m\u001b[1;33m[\u001b[0m\u001b[1;34m'chcscncr'\u001b[0m\u001b[1;33m]\u001b[0m\u001b[1;33m.\u001b[0m\u001b[0munique\u001b[0m\u001b[1;33m(\u001b[0m\u001b[1;33m)\u001b[0m\u001b[1;33m)\u001b[0m\u001b[1;33m\u001b[0m\u001b[1;33m\u001b[0m\u001b[0m\n\u001b[0m\u001b[0;32m      2\u001b[0m \u001b[0mprint\u001b[0m\u001b[1;33m(\u001b[0m\u001b[0mmy_df\u001b[0m\u001b[1;33m[\u001b[0m\u001b[1;34m'qlactlm2'\u001b[0m\u001b[1;33m]\u001b[0m\u001b[1;33m.\u001b[0m\u001b[0munique\u001b[0m\u001b[1;33m(\u001b[0m\u001b[1;33m)\u001b[0m\u001b[1;33m)\u001b[0m\u001b[1;33m\u001b[0m\u001b[1;33m\u001b[0m\u001b[0m\n\u001b[0;32m      3\u001b[0m \u001b[0mprint\u001b[0m\u001b[1;33m(\u001b[0m\u001b[0mmy_df\u001b[0m\u001b[1;33m[\u001b[0m\u001b[1;34m'poorhlth'\u001b[0m\u001b[1;33m]\u001b[0m\u001b[1;33m.\u001b[0m\u001b[0munique\u001b[0m\u001b[1;33m(\u001b[0m\u001b[1;33m)\u001b[0m\u001b[1;33m)\u001b[0m\u001b[1;33m\u001b[0m\u001b[1;33m\u001b[0m\u001b[0m\n\u001b[0;32m      4\u001b[0m \u001b[0mprint\u001b[0m\u001b[1;33m(\u001b[0m\u001b[0mmy_df\u001b[0m\u001b[1;33m[\u001b[0m\u001b[1;34m'fruit1'\u001b[0m\u001b[1;33m]\u001b[0m\u001b[1;33m.\u001b[0m\u001b[0munique\u001b[0m\u001b[1;33m(\u001b[0m\u001b[1;33m)\u001b[0m\u001b[1;33m)\u001b[0m\u001b[1;33m\u001b[0m\u001b[1;33m\u001b[0m\u001b[0m\n",
      "\u001b[1;31mAttributeError\u001b[0m: 'CategoricalDtype' object has no attribute 'unique'"
     ]
    }
   ],
   "source": [
    "print(my_df['chcscncr'].unique())\n",
    "print(my_df['qlactlm2'].unique())\n",
    "print(my_df['poorhlth'].unique())\n",
    "print(my_df['fruit1'].unique())"
   ]
  },
  {
   "cell_type": "code",
   "execution_count": 62,
   "metadata": {},
   "outputs": [
    {
     "data": {
      "text/plain": [
       "count            4\n",
       "unique           4\n",
       "top       category\n",
       "freq             1\n",
       "dtype: object"
      ]
     },
     "execution_count": 62,
     "metadata": {},
     "output_type": "execute_result"
    }
   ],
   "source": [
    "my_df.describe()"
   ]
  },
  {
   "cell_type": "markdown",
   "metadata": {},
   "source": [
    "*****"
   ]
  }
 ],
 "metadata": {
  "kernelspec": {
   "display_name": "Python 3",
   "language": "python",
   "name": "python3"
  },
  "language_info": {
   "codemirror_mode": {
    "name": "ipython",
    "version": 3
   },
   "file_extension": ".py",
   "mimetype": "text/x-python",
   "name": "python",
   "nbconvert_exporter": "python",
   "pygments_lexer": "ipython3",
   "version": "3.8.3"
  }
 },
 "nbformat": 4,
 "nbformat_minor": 4
}
