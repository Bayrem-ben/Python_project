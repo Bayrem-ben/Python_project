{
 "cells": [
  {
   "cell_type": "markdown",
   "metadata": {},
   "source": [
    "                                           TP2 DATA CLEANING"
   ]
  },
  {
   "cell_type": "markdown",
   "metadata": {},
   "source": [
    "**Write your names in the cell below**"
   ]
  },
  {
   "cell_type": "code",
   "execution_count": 75,
   "metadata": {},
   "outputs": [
    {
     "ename": "NameError",
     "evalue": "name 'ZGAREN' is not defined",
     "output_type": "error",
     "traceback": [
      "\u001b[1;31m---------------------------------------------------------------------------\u001b[0m",
      "\u001b[1;31mNameError\u001b[0m                                 Traceback (most recent call last)",
      "\u001b[1;32m<ipython-input-75-28aeeaa025bf>\u001b[0m in \u001b[0;36m<module>\u001b[1;34m\u001b[0m\n\u001b[1;32m----> 1\u001b[1;33m \u001b[0mZGAREN\u001b[0m\u001b[1;33m\u001b[0m\u001b[1;33m\u001b[0m\u001b[0m\n\u001b[0m",
      "\u001b[1;31mNameError\u001b[0m: name 'ZGAREN' is not defined"
     ]
    }
   ],
   "source": [
    "ZGAREN"
   ]
  },
  {
   "cell_type": "code",
   "execution_count": null,
   "metadata": {},
   "outputs": [],
   "source": [
    "MOHAMED AMINE"
   ]
  },
  {
   "cell_type": "markdown",
   "metadata": {},
   "source": [
    "**Write names of the 4 variables assigned to your group** (based on file variable_assignments.txt)"
   ]
  },
  {
   "cell_type": "raw",
   "metadata": {},
   "source": [
    "Group 10 ['numwomen','sex','maxdrnks','vegetab1']"
   ]
  },
  {
   "cell_type": "markdown",
   "metadata": {},
   "source": [
    "****"
   ]
  },
  {
   "cell_type": "markdown",
   "metadata": {},
   "source": [
    "## Overview of the Data"
   ]
  },
  {
   "cell_type": "markdown",
   "metadata": {},
   "source": [
    "The BRFSS (Behavioral Risk Factor Surveillance System) data was collected during the period 2013-2014 via monthly telephone-based surveys of randomly selected persons in the US. The rows in this data represent unique persons and the columns represent various demographic, life style, behavioral and health-related information about the interviewed persons.  Data website: https://www.cdc.gov/brfss/annual_data/annual_2013.html\n",
    "\n",
    "All variables in this dataset are coded (represented) with numeric values, but many of them are truly categorical."
   ]
  },
  {
   "cell_type": "markdown",
   "metadata": {},
   "source": [
    "****"
   ]
  },
  {
   "cell_type": "markdown",
   "metadata": {},
   "source": [
    "<font color='red'> **Files you will need ** </font> \n",
    "\n",
    "- File `brfss2013_sub.csv` : contains the data.\n",
    "- File `data_codebook.html` : contains information about the data variables.\n",
    "- File `variable_assignments.txt` : contains names of variables assigned to each group.\n",
    "- File `TP2_Data_Cleaning.ipynb` : contains source code."
   ]
  },
  {
   "cell_type": "markdown",
   "metadata": {},
   "source": [
    "<font color='red'> **What you will do** </font> \n",
    "\n",
    "- Follow the instructions below and answer the questions.\n",
    "\n",
    "- Your answers will generally consist of a mix of code and explanations.\n",
    "\n",
    "- Feel free to create new cells to write your answers.\n",
    "\n",
    "- Submit your modified .ipynb file containing your answers to the questions below."
   ]
  },
  {
   "cell_type": "markdown",
   "metadata": {},
   "source": [
    "******"
   ]
  },
  {
   "cell_type": "markdown",
   "metadata": {},
   "source": [
    "## Useful functions and methods"
   ]
  },
  {
   "cell_type": "markdown",
   "metadata": {},
   "source": [
    "\n",
    "**Data exploration**\n",
    "\n",
    "- head, shape, columns, describe, value_counts, unique, nunique, plot\n",
    "\n",
    "**Data type conversions**\n",
    "\n",
    "- `pd.to_numeric` (Pandas function)\n",
    "- `astype` (Pandas method)\n",
    "\n",
    "**Dealing with missing values**\n",
    "- `isna` (Pandas method)\n",
    "- `fillna` (Pandas method)\n",
    "- `dropna` (Pandas method)"
   ]
  },
  {
   "cell_type": "markdown",
   "metadata": {},
   "source": [
    "*****"
   ]
  },
  {
   "cell_type": "markdown",
   "metadata": {},
   "source": [
    "- to execute a cell, <font color='red'>shift+enter</font>\n",
    "- to insert a new cell, press the <font color='red'>**+** button</font> in the top menu\n",
    "- to obtain <font color='red'>help</font> about any method or function use ?\n",
    "\n",
    "?pd.read_csv\n",
    "\n",
    "?df.idate.isnull"
   ]
  },
  {
   "cell_type": "markdown",
   "metadata": {},
   "source": [
    "## Part 1: Read the Data\n",
    "\n",
    "Answer the following questions.  You need to write python code for some questions.\n",
    "\n",
    "1. Read the data in file `brfss2013_sub.csv` and store it in a data frame called `df`\n",
    "2. How many rows and columns are in this data frame?\n",
    "3. What are the names and true types of the first 5 columns?\n",
    "4. Are any of these first 5 columns useful for ML? Explain."
   ]
  },
  {
   "cell_type": "markdown",
   "metadata": {},
   "source": [
    "******"
   ]
  },
  {
   "cell_type": "code",
   "execution_count": 76,
   "metadata": {},
   "outputs": [],
   "source": [
    "#Q1\n",
    "import pandas as pd\n",
    "import numpy as np\n",
    "import matplotlib.pyplot as plt\n",
    "import seaborn as sns\n",
    "\n",
    "df = pd.read_csv ('brfss2013_SUB.csv')"
   ]
  },
  {
   "cell_type": "code",
   "execution_count": 77,
   "metadata": {},
   "outputs": [
    {
     "data": {
      "text/plain": [
       "(100000, 91)"
      ]
     },
     "execution_count": 77,
     "metadata": {},
     "output_type": "execute_result"
    }
   ],
   "source": [
    "#Q2\n",
    "df.shape"
   ]
  },
  {
   "cell_type": "code",
   "execution_count": 78,
   "metadata": {},
   "outputs": [
    {
     "data": {
      "text/plain": [
       "idate       int64\n",
       "imonth      int64\n",
       "iday        int64\n",
       "iyear       int64\n",
       "dispcode    int64\n",
       "dtype: object"
      ]
     },
     "execution_count": 78,
     "metadata": {},
     "output_type": "execute_result"
    }
   ],
   "source": [
    "#Q3 \n",
    "df.iloc[0:0, [0,1,2,3,4]].dtypes\n"
   ]
  },
  {
   "cell_type": "code",
   "execution_count": 1,
   "metadata": {},
   "outputs": [
    {
     "ename": "NameError",
     "evalue": "name 'df' is not defined",
     "output_type": "error",
     "traceback": [
      "\u001b[1;31m---------------------------------------------------------------------------\u001b[0m",
      "\u001b[1;31mNameError\u001b[0m                                 Traceback (most recent call last)",
      "\u001b[1;32m<ipython-input-1-131ac1a8aba9>\u001b[0m in \u001b[0;36m<module>\u001b[1;34m\u001b[0m\n\u001b[0;32m      1\u001b[0m \u001b[1;31m#Q4\u001b[0m\u001b[1;33m\u001b[0m\u001b[1;33m\u001b[0m\u001b[1;33m\u001b[0m\u001b[0m\n\u001b[0;32m      2\u001b[0m \u001b[1;32mimport\u001b[0m \u001b[0mpandas\u001b[0m \u001b[1;32mas\u001b[0m \u001b[0mpd\u001b[0m\u001b[1;33m\u001b[0m\u001b[1;33m\u001b[0m\u001b[0m\n\u001b[1;32m----> 3\u001b[1;33m \u001b[0ma5colonne\u001b[0m \u001b[1;33m=\u001b[0m \u001b[0mdf\u001b[0m\u001b[1;33m.\u001b[0m\u001b[0miloc\u001b[0m\u001b[1;33m[\u001b[0m\u001b[1;33m:\u001b[0m\u001b[1;33m,\u001b[0m \u001b[1;33m:\u001b[0m\u001b[1;36m5\u001b[0m\u001b[1;33m]\u001b[0m\u001b[1;33m\u001b[0m\u001b[1;33m\u001b[0m\u001b[0m\n\u001b[0m\u001b[0;32m      4\u001b[0m \u001b[0mprint\u001b[0m\u001b[1;33m(\u001b[0m\u001b[0ma5colonne\u001b[0m\u001b[1;33m)\u001b[0m\u001b[1;33m\u001b[0m\u001b[1;33m\u001b[0m\u001b[0m\n\u001b[0;32m      5\u001b[0m \u001b[0ma5colonne\u001b[0m\u001b[1;33m.\u001b[0m\u001b[0minfo\u001b[0m\u001b[1;33m(\u001b[0m\u001b[1;33m)\u001b[0m\u001b[1;33m\u001b[0m\u001b[1;33m\u001b[0m\u001b[0m\n",
      "\u001b[1;31mNameError\u001b[0m: name 'df' is not defined"
     ]
    }
   ],
   "source": [
    "#Q4\n",
    "import pandas as pd\n",
    "a5colonne = df.iloc[:, :5]\n",
    "print(a5colonne)\n",
    "a5colonne.info()"
   ]
  },
  {
   "cell_type": "markdown",
   "metadata": {},
   "source": [
    "## Part 2: Data Exploration and Cleaning\n",
    "\n",
    "Answer the questions below.\n",
    "\n",
    "1. Create a list called `my_vars_names` containing the names of the 4 variables that were assigned to your group.\n",
    "\n",
    "2. Create a new data frame called `my_df` as a subset of `df` containing only the columns in `my_vars_names`.\n",
    "\n",
    "3. Verify the shape of this new data frame; Make sure its number of rows is the same as in `df`.\n",
    "\n",
    "4. Determine the **true** type of each variable based on its description in file `data_codebook.html`; is it *categorical*, *discrete*, *continuous*, or **other** ?\n",
    "\n",
    "5. For each truly *categorical* variable, convert it to the *category* type by calling the `astype` method ...\n",
    "\n",
    "6. For each numeric variable, determine the unit(s) of measurement of its values based on the description in file `data_codebook.html`. For example: number of times per week; kilograms, etc.  **Be careful**: some variables contain values with different measurement units. For example, the **weight2** variable contains both values in *pounds* and values in *kilograms*! ...\n",
    "\n",
    "7. For each numeric variable, determine whether it contains any invalid values; that is, values that are inconsistent with the variable's description in file `data_codebook.html`. **Hint**: the `describe` and `unique` methods are helpful ...\n",
    "\n",
    "8. For each numeric variable, determine whether it contains outliers. **Hint1**: start by visualizing the distribution of the variable using a boxplot or histogram.  **Hint2**: if your variable has multiple units of measurement, use different plots for different units ...\n",
    "\n",
    "9. For each categorical variable, how many categories does it have? **Hint**: call the `nunique` and/or `value_counts` methods ...\n",
    "\n",
    "10. For each variable, if it contains **implicitly** encoded missing values, then replace those values with the explicit NAN value `np.nan`\n",
    "\n",
    "11. How many missing values does each variable contain? **Hint**: call the `isnull` method followed by the `sum` method ...\n",
    "\n",
    "12. Which variables should be removed because they contain too many missing values (more than 30%)?  **Hint**: call `isnull` followed by `mean` in order to obtain the fraction of missing values for each variable.\n",
    "\n",
    "13. Remove all variables from `my_df` that contain more than 30% missing values. Put the result in a new data frame called `my_df_without_noisy_variables`. Display the shape of this data frame.\n",
    "\n",
    "14. Remove all rows from `my_df` that contain missing values by calling the `dropna` method. Put the result in a new data frame called `my_df_without_missing`.  Display the shape of this new data frame.  **Hint**: carefully read the documentation of the `dropna` method using the command `?my_df.dropna`.\n",
    "\n",
    "15. Based on the result of the previous question, do you think it's a good idea to handle missing values by removing the entire row? Explain.\n",
    "\n",
    "16. For each numeric variable that has less than 30% missing values, replace its missing values with its *median* value, and put the result in the SAME data frame `my_df`. You should call the `fillna` method SEPARATELY on each variable, with the parameter `inplace=True`.\n",
    "\n",
    "17. For each categorical variable that has less than 30% missing values, replace its missing values with the *most frequent* value and put the result in the SAME data frame `my_df`, by calling the `fillna` method SEPARATELY on each variable, with `inplace=True`."
   ]
  },
  {
   "cell_type": "code",
   "execution_count": 80,
   "metadata": {},
   "outputs": [],
   "source": [
    "#Q1\n",
    "my_vars_names = ['numwomen','sex','maxdrnks','vegetab1']\n"
   ]
  },
  {
   "cell_type": "code",
   "execution_count": 81,
   "metadata": {},
   "outputs": [],
   "source": [
    "#Q2\n",
    "my_df = df[my_vars_names]"
   ]
  },
  {
   "cell_type": "code",
   "execution_count": 82,
   "metadata": {},
   "outputs": [
    {
     "data": {
      "text/plain": [
       "(100000, 4)"
      ]
     },
     "execution_count": 82,
     "metadata": {},
     "output_type": "execute_result"
    }
   ],
   "source": [
    "#Q3\n",
    "my_df.shape"
   ]
  },
  {
   "cell_type": "code",
   "execution_count": 83,
   "metadata": {},
   "outputs": [
    {
     "data": {
      "text/plain": [
       "numwomen    float64\n",
       "sex           int64\n",
       "maxdrnks    float64\n",
       "vegetab1    float64\n",
       "dtype: object"
      ]
     },
     "execution_count": 83,
     "metadata": {},
     "output_type": "execute_result"
    }
   ],
   "source": [
    "my_df.dtypes"
   ]
  },
  {
   "cell_type": "code",
   "execution_count": 84,
   "metadata": {},
   "outputs": [
    {
     "ename": "NameError",
     "evalue": "name 'continuous' is not defined",
     "output_type": "error",
     "traceback": [
      "\u001b[1;31m---------------------------------------------------------------------------\u001b[0m",
      "\u001b[1;31mNameError\u001b[0m                                 Traceback (most recent call last)",
      "\u001b[1;32m<ipython-input-84-2b0958519dee>\u001b[0m in \u001b[0;36m<module>\u001b[1;34m\u001b[0m\n\u001b[0;32m      1\u001b[0m \u001b[1;31m#Q4\u001b[0m\u001b[1;33m\u001b[0m\u001b[1;33m\u001b[0m\u001b[1;33m\u001b[0m\u001b[0m\n\u001b[1;32m----> 2\u001b[1;33m \u001b[0mnumwomen\u001b[0m \u001b[1;33m:\u001b[0m\u001b[0mcontinuous\u001b[0m\u001b[1;33m\u001b[0m\u001b[1;33m\u001b[0m\u001b[0m\n\u001b[0m\u001b[0;32m      3\u001b[0m \u001b[0msex\u001b[0m \u001b[1;33m:\u001b[0m \u001b[0mcategorical\u001b[0m\u001b[1;33m\u001b[0m\u001b[1;33m\u001b[0m\u001b[0m\n\u001b[0;32m      4\u001b[0m \u001b[0mmaxdrnks\u001b[0m \u001b[1;33m:\u001b[0m \u001b[0mcontinuous\u001b[0m\u001b[1;33m\u001b[0m\u001b[1;33m\u001b[0m\u001b[0m\n\u001b[0;32m      5\u001b[0m \u001b[0mvegetab1\u001b[0m \u001b[1;33m:\u001b[0m \u001b[0mcontinuous\u001b[0m\u001b[1;33m\u001b[0m\u001b[1;33m\u001b[0m\u001b[0m\n",
      "\u001b[1;31mNameError\u001b[0m: name 'continuous' is not defined"
     ]
    }
   ],
   "source": [
    "#Q4\n",
    "numwomen :continuous\n",
    "sex : categorical\n",
    "maxdrnks : continuous\n",
    "vegetab1 : continuous"
   ]
  },
  {
   "cell_type": "code",
   "execution_count": 85,
   "metadata": {},
   "outputs": [
    {
     "data": {
      "text/plain": [
       "numwomen    category\n",
       "sex         category\n",
       "maxdrnks    category\n",
       "vegetab1    category\n",
       "dtype: object"
      ]
     },
     "execution_count": 85,
     "metadata": {},
     "output_type": "execute_result"
    }
   ],
   "source": [
    "#Q5\n",
    "my_df = my_df.astype('category')\n",
    "my_df.dtypes"
   ]
  },
  {
   "cell_type": "code",
   "execution_count": 86,
   "metadata": {},
   "outputs": [
    {
     "ename": "SyntaxError",
     "evalue": "invalid syntax (<ipython-input-86-f1b5e141eaf7>, line 2)",
     "output_type": "error",
     "traceback": [
      "\u001b[1;36m  File \u001b[1;32m\"<ipython-input-86-f1b5e141eaf7>\"\u001b[1;36m, line \u001b[1;32m2\u001b[0m\n\u001b[1;33m    vegetab1: How Many Times Did You Eat vegetab1? => Unit of measurement: times per day (1), week (2), or month (3)\u001b[0m\n\u001b[1;37m                  ^\u001b[0m\n\u001b[1;31mSyntaxError\u001b[0m\u001b[1;31m:\u001b[0m invalid syntax\n"
     ]
    }
   ],
   "source": [
    "#Q6 \n",
    "vegetab1: How Many Times Did You Eat vegetab1? => Unit of measurement: times per day (1), week (2), or month (3)"
   ]
  },
  {
   "cell_type": "code",
   "execution_count": 87,
   "metadata": {},
   "outputs": [
    {
     "name": "stdout",
     "output_type": "stream",
     "text": [
      "\n",
      "Number of unique elements in 'numwomen':  9\n",
      "\n",
      "Number of unique elements in 'sex':  2\n",
      "\n",
      "Number of unique elements in 'maxdrnks':  42\n",
      "\n",
      "Number of unique elements in 'vegetab1':  102\n"
     ]
    }
   ],
   "source": [
    "#Q7 \n",
    "print(\"\\nNumber of unique elements in 'numwomen': \", my_df.numwomen.nunique())\n",
    "print(\"\\nNumber of unique elements in 'sex': \", my_df.sex.nunique())\n",
    "print(\"\\nNumber of unique elements in 'maxdrnks': \", my_df.maxdrnks.nunique())\n",
    "print(\"\\nNumber of unique elements in 'vegetab1': \", my_df.vegetab1.nunique())"
   ]
  },
  {
   "cell_type": "code",
   "execution_count": 88,
   "metadata": {},
   "outputs": [
    {
     "data": {
      "text/html": [
       "<div>\n",
       "<style scoped>\n",
       "    .dataframe tbody tr th:only-of-type {\n",
       "        vertical-align: middle;\n",
       "    }\n",
       "\n",
       "    .dataframe tbody tr th {\n",
       "        vertical-align: top;\n",
       "    }\n",
       "\n",
       "    .dataframe thead th {\n",
       "        text-align: right;\n",
       "    }\n",
       "</style>\n",
       "<table border=\"1\" class=\"dataframe\">\n",
       "  <thead>\n",
       "    <tr style=\"text-align: right;\">\n",
       "      <th></th>\n",
       "      <th>numwomen</th>\n",
       "      <th>sex</th>\n",
       "      <th>maxdrnks</th>\n",
       "      <th>vegetab1</th>\n",
       "    </tr>\n",
       "  </thead>\n",
       "  <tbody>\n",
       "    <tr>\n",
       "      <th>count</th>\n",
       "      <td>72997.0</td>\n",
       "      <td>100000</td>\n",
       "      <td>47763.0</td>\n",
       "      <td>94100.0</td>\n",
       "    </tr>\n",
       "    <tr>\n",
       "      <th>unique</th>\n",
       "      <td>9.0</td>\n",
       "      <td>2</td>\n",
       "      <td>42.0</td>\n",
       "      <td>102.0</td>\n",
       "    </tr>\n",
       "    <tr>\n",
       "      <th>top</th>\n",
       "      <td>1.0</td>\n",
       "      <td>2</td>\n",
       "      <td>2.0</td>\n",
       "      <td>101.0</td>\n",
       "    </tr>\n",
       "    <tr>\n",
       "      <th>freq</th>\n",
       "      <td>57153.0</td>\n",
       "      <td>59020</td>\n",
       "      <td>12914.0</td>\n",
       "      <td>21949.0</td>\n",
       "    </tr>\n",
       "  </tbody>\n",
       "</table>\n",
       "</div>"
      ],
      "text/plain": [
       "        numwomen     sex  maxdrnks  vegetab1\n",
       "count    72997.0  100000   47763.0   94100.0\n",
       "unique       9.0       2      42.0     102.0\n",
       "top          1.0       2       2.0     101.0\n",
       "freq     57153.0   59020   12914.0   21949.0"
      ]
     },
     "execution_count": 88,
     "metadata": {},
     "output_type": "execute_result"
    }
   ],
   "source": [
    "my_df.describe()"
   ]
  },
  {
   "cell_type": "code",
   "execution_count": 89,
   "metadata": {},
   "outputs": [
    {
     "data": {
      "text/plain": [
       "(array([30991., 28214., 31136.,    72.,     0.,  1712.,     0.,  1334.,\n",
       "            0.,   641.]),\n",
       " array([101. , 190.8, 280.6, 370.4, 460.2, 550. , 639.8, 729.6, 819.4,\n",
       "        909.2, 999. ]),\n",
       " <BarContainer object of 10 artists>)"
      ]
     },
     "execution_count": 89,
     "metadata": {},
     "output_type": "execute_result"
    },
    {
     "data": {
      "image/png": "[encoded data removed]",
      "text/plain": [
       "<Figure size 864x864 with 4 Axes>"
      ]
     },
     "metadata": {
      "needs_background": "light"
     },
     "output_type": "display_data"
    }
   ],
   "source": [
    "#Q8\n",
    "plt.figure(figsize=(12, 12))\n",
    "plt.subplot(2, 2, 1)\n",
    "plt.hist(my_df.numwomen)\n",
    "#my_df['numwomen'].value_counts().plot(kind='bar')\n",
    "plt.subplot(2, 2, 2)\n",
    "plt.hist(my_df.sex)\n",
    "#my_df['sex'].value_counts().plot(kind='bar')\n",
    "plt.subplot(2, 2, 3)\n",
    "plt.hist(my_df.maxdrnks)\n",
    "#my_df['maxdrnks'].value_counts().plot(kind='bar')\n",
    "plt.subplot(2, 2, 4)\n",
    "plt.hist(my_df.vegetab1)\n",
    "#my_df['vegetab1'].value_counts().plot(kind='bar')\n",
    "\n",
    "\n",
    "#Needs normalization in order to obtain a good graphs"
   ]
  },
  {
   "cell_type": "code",
   "execution_count": 90,
   "metadata": {},
   "outputs": [
    {
     "data": {
      "text/plain": [
       "<AxesSubplot:>"
      ]
     },
     "execution_count": 90,
     "metadata": {},
     "output_type": "execute_result"
    },
    {
     "data": {
      "image/png": "[encoded data removed]",
      "text/plain": [
       "<Figure size 576x576 with 3 Axes>"
      ]
     },
     "metadata": {
      "needs_background": "light"
     },
     "output_type": "display_data"
    }
   ],
   "source": [
    "#Q9\n",
    "plt.figure(figsize=(8, 8))\n",
    "plt.subplot(1, 3, 1)\n",
    "my_df['numwomen'].value_counts().plot(kind='bar')\n",
    "plt.subplot(1, 3, 2)\n",
    "my_df['sex'].value_counts().plot(kind='bar')\n",
    "plt.subplot(1, 3, 3)\n",
    "my_df['maxdrnks'].value_counts().plot(kind='bar')\n",
    "my_df['vegetab1'].value_counts().plot(kind='bar')"
   ]
  },
  {
   "cell_type": "code",
   "execution_count": 102,
   "metadata": {},
   "outputs": [
    {
     "name": "stdout",
     "output_type": "stream",
     "text": [
      "\n",
      "Let's check if the count of nan elements in each column..\n",
      " numwomen    27003\n",
      "sex             0\n",
      "maxdrnks    52237\n",
      "vegetab1     5900\n",
      "dtype: int64\n"
     ]
    }
   ],
   "source": [
    "#Q10\n",
    "my_df.numwomen = my_df.numwomen.fillna(np.nan) \n",
    "my_df.sex = my_df.sex.fillna(np.nan)\n",
    "my_df.maxdrnks = my_df.maxdrnks.fillna(np.nan)\n",
    "my_df.vegetab1 = my_df.vegetab1.fillna(np.nan)\n",
    "print(\"\\nLet's check if the count of nan elements in each column..\\n\",my_df.isna().sum())"
   ]
  },
  {
   "cell_type": "code",
   "execution_count": 92,
   "metadata": {},
   "outputs": [
    {
     "name": "stdout",
     "output_type": "stream",
     "text": [
      "\n",
      "Number of null elements in 'numwomen':  27003\n",
      "\n",
      "Number of null elements in 'sex':  0\n",
      "\n",
      "Number of null elements in 'maxdrnks':  52237\n",
      "\n",
      "Number of null elements in 'vegetab1':  5900\n"
     ]
    }
   ],
   "source": [
    "#Q11\n",
    "import matplotlib.pyplot as plt\n",
    "import numpy as np\n",
    "print(\"\\nNumber of null elements in 'numwomen': \", my_df.numwomen.isnull().sum())\n",
    "print(\"\\nNumber of null elements in 'sex': \", my_df.sex.isnull().sum())\n",
    "print(\"\\nNumber of null elements in 'maxdrnks': \", my_df.maxdrnks.isnull().sum())\n",
    "print(\"\\nNumber of null elements in 'vegetab1': \", my_df.vegetab1.isnull().sum())"
   ]
  },
  {
   "cell_type": "code",
   "execution_count": 93,
   "metadata": {},
   "outputs": [
    {
     "name": "stdout",
     "output_type": "stream",
     "text": [
      "\n",
      "Mean of null elements in 'numwomen':  0.27003\n",
      "\n",
      "Mean of null elements in 'sex':  0.0\n",
      "\n",
      "Mean of null elements in 'maxdrnks':  0.52237\n",
      "\n",
      "Mean of null elements in 'vegetab1':  0.059\n"
     ]
    }
   ],
   "source": [
    "#Q12\n",
    "print(\"\\nMean of null elements in 'numwomen': \", my_df.numwomen.isnull().mean())\n",
    "print(\"\\nMean of null elements in 'sex': \", my_df.sex.isnull().mean())\n",
    "print(\"\\nMean of null elements in 'maxdrnks': \", my_df.maxdrnks.isnull().mean())\n",
    "print(\"\\nMean of null elements in 'vegetab1': \", my_df.vegetab1.isnull().mean())"
   ]
  },
  {
   "cell_type": "code",
   "execution_count": 111,
   "metadata": {},
   "outputs": [
    {
     "name": "stdout",
     "output_type": "stream",
     "text": [
      "numwomen    0.27003\n",
      "sex         0.00000\n",
      "maxdrnks    0.52237\n",
      "vegetab1    0.05900\n",
      "dtype: float64\n",
      "<class 'pandas.core.frame.DataFrame'>\n",
      "RangeIndex: 100000 entries, 0 to 99999\n",
      "Data columns (total 3 columns):\n",
      " #   Column    Non-Null Count   Dtype   \n",
      "---  ------    --------------   -----   \n",
      " 0   numwomen  72997 non-null   category\n",
      " 1   sex       100000 non-null  category\n",
      " 2   vegetab1  94100 non-null   category\n",
      "dtypes: category(3)\n",
      "memory usage: 299.4 KB\n"
     ]
    }
   ],
   "source": [
    "#Q13\n",
    "lim =  my_df.isnull().mean()\n",
    "print(lim)\n",
    "Droped_Columns = lim[lim > 0.3].index\n",
    "my_df = my_df.dropna(thresh=lim,axis=1)\n",
    "my_df_without_noisy_variables = my_df.drop(columns=Droped_Columns)\n",
    "my_df_without_noisy_variables.info()"
   ]
  },
  {
   "cell_type": "code",
   "execution_count": 107,
   "metadata": {},
   "outputs": [
    {
     "name": "stdout",
     "output_type": "stream",
     "text": [
      "my_df shape without removing rows that containt NA values:  (100000, 4)\n",
      "The new dataframe with rows that containt NA values removed:  (32419, 4)\n"
     ]
    }
   ],
   "source": [
    "#Q14\n",
    "my_df_without_missing = my_df.dropna(axis=0, how='any')\n",
    "print(\"my_df shape without removing rows that containt NA values: \", my_df.shape)\n",
    "print(\"The new dataframe with rows that containt NA values removed: \", my_df_without_missing.shape)"
   ]
  },
  {
   "cell_type": "code",
   "execution_count": null,
   "metadata": {},
   "outputs": [],
   "source": [
    "We notice that the number of rows is now reduced by half which is not good for our data because we lost alot of useful information that the removed rows with N/A values still contain"
   ]
  },
  {
   "cell_type": "code",
   "execution_count": 112,
   "metadata": {},
   "outputs": [
    {
     "data": {
      "text/html": [
       "<div>\n",
       "<style scoped>\n",
       "    .dataframe tbody tr th:only-of-type {\n",
       "        vertical-align: middle;\n",
       "    }\n",
       "\n",
       "    .dataframe tbody tr th {\n",
       "        vertical-align: top;\n",
       "    }\n",
       "\n",
       "    .dataframe thead th {\n",
       "        text-align: right;\n",
       "    }\n",
       "</style>\n",
       "<table border=\"1\" class=\"dataframe\">\n",
       "  <thead>\n",
       "    <tr style=\"text-align: right;\">\n",
       "      <th></th>\n",
       "      <th>sex</th>\n",
       "    </tr>\n",
       "  </thead>\n",
       "  <tbody>\n",
       "    <tr>\n",
       "      <th>0</th>\n",
       "      <td>2</td>\n",
       "    </tr>\n",
       "    <tr>\n",
       "      <th>1</th>\n",
       "      <td>1</td>\n",
       "    </tr>\n",
       "    <tr>\n",
       "      <th>2</th>\n",
       "      <td>2</td>\n",
       "    </tr>\n",
       "    <tr>\n",
       "      <th>3</th>\n",
       "      <td>2</td>\n",
       "    </tr>\n",
       "    <tr>\n",
       "      <th>4</th>\n",
       "      <td>2</td>\n",
       "    </tr>\n",
       "    <tr>\n",
       "      <th>...</th>\n",
       "      <td>...</td>\n",
       "    </tr>\n",
       "    <tr>\n",
       "      <th>99995</th>\n",
       "      <td>1</td>\n",
       "    </tr>\n",
       "    <tr>\n",
       "      <th>99996</th>\n",
       "      <td>2</td>\n",
       "    </tr>\n",
       "    <tr>\n",
       "      <th>99997</th>\n",
       "      <td>1</td>\n",
       "    </tr>\n",
       "    <tr>\n",
       "      <th>99998</th>\n",
       "      <td>1</td>\n",
       "    </tr>\n",
       "    <tr>\n",
       "      <th>99999</th>\n",
       "      <td>1</td>\n",
       "    </tr>\n",
       "  </tbody>\n",
       "</table>\n",
       "<p>100000 rows × 1 columns</p>\n",
       "</div>"
      ],
      "text/plain": [
       "      sex\n",
       "0       2\n",
       "1       1\n",
       "2       2\n",
       "3       2\n",
       "4       2\n",
       "...    ..\n",
       "99995   1\n",
       "99996   2\n",
       "99997   1\n",
       "99998   1\n",
       "99999   1\n",
       "\n",
       "[100000 rows x 1 columns]"
      ]
     },
     "execution_count": 112,
     "metadata": {},
     "output_type": "execute_result"
    }
   ],
   "source": [
    "my_df.dropna(axis='columns')"
   ]
  },
  {
   "cell_type": "code",
   "execution_count": 113,
   "metadata": {},
   "outputs": [
    {
     "name": "stdout",
     "output_type": "stream",
     "text": [
      "          idate  imonth  iday  iyear  dispcode       seqno        ladult  \\\n",
      "0       4302013       4    30   2013      1100  2013009711  6.653541e+06   \n",
      "1       4242013       4    24   2013      1100  2013003472  6.653541e+06   \n",
      "2      10232013      10    23   2013      1100  2013006428  6.653541e+06   \n",
      "3       1192013       1    19   2013      1100  2013000091  6.653541e+06   \n",
      "4      12052013      12     5   2013      1100  2013004518  6.653541e+06   \n",
      "...         ...     ...   ...    ...       ...         ...           ...   \n",
      "99995  10222013      10    22   2013      1100  2013013677  6.653541e+06   \n",
      "99996  12112013      12    11   2013      1100  2013006289  6.653541e+06   \n",
      "99997   1082013       1     8   2013      1100  2013004762  6.653541e+06   \n",
      "99998   5132013       5    13   2013      1100  2013004441  6.653541e+06   \n",
      "99999  11192013      11    19   2013      1100  2013010296  6.653541e+06   \n",
      "\n",
      "           numadult        nummen      numwomen  ...  seatbelt  flushot6  \\\n",
      "0      1.000000e+00  0.000000e+00  1.000000e+00  ...       1.0       1.0   \n",
      "1      1.000000e+00  1.000000e+00  0.000000e+00  ...       1.0       1.0   \n",
      "2      1.000000e+00  0.000000e+00  1.000000e+00  ...       1.0       1.0   \n",
      "3      1.000000e+00  0.000000e+00  1.000000e+00  ...       1.0       2.0   \n",
      "4      1.000000e+00  0.000000e+00  1.000000e+00  ...       1.0       2.0   \n",
      "...             ...           ...           ...  ...       ...       ...   \n",
      "99995  6.653541e+06  6.653541e+06  6.653541e+06  ...       1.0       2.0   \n",
      "99996  6.653541e+06  6.653541e+06  6.653541e+06  ...       1.0       2.0   \n",
      "99997  4.000000e+00  2.000000e+00  2.000000e+00  ...       3.0       1.0   \n",
      "99998  6.653541e+06  6.653541e+06  6.653541e+06  ...       1.0       1.0   \n",
      "99999  6.653541e+06  6.653541e+06  6.653541e+06  ...       1.0       2.0   \n",
      "\n",
      "           flshtmy2  tetanus  pneuvac3  hivtst6      hivtstd3      whrtst10  \\\n",
      "0      1.020120e+05      1.0       1.0      1.0  8.201200e+04  4.000000e+00   \n",
      "1      9.201200e+04      4.0       1.0      2.0  6.653541e+06  6.653541e+06   \n",
      "2      1.020130e+05      4.0       1.0      2.0  6.653541e+06  6.653541e+06   \n",
      "3      6.653541e+06      4.0       2.0      2.0  6.653541e+06  6.653541e+06   \n",
      "4      6.653541e+06      4.0       2.0      2.0  6.653541e+06  6.653541e+06   \n",
      "...             ...      ...       ...      ...           ...           ...   \n",
      "99995  6.653541e+06      4.0       2.0      1.0  7.777770e+05  4.000000e+00   \n",
      "99996  6.653541e+06      2.0       2.0      2.0  6.653541e+06  6.653541e+06   \n",
      "99997  8.201200e+04      3.0       2.0      1.0  8.201200e+04  3.000000e+00   \n",
      "99998  1.220120e+05      3.0       1.0      1.0  7.777770e+05  1.000000e+00   \n",
      "99999  6.653541e+06      4.0       2.0      2.0  6.653541e+06  6.653541e+06   \n",
      "\n",
      "       x.imprace  x.age.g  \n",
      "0              1        5  \n",
      "1              1        5  \n",
      "2              1        6  \n",
      "3              6        6  \n",
      "4              1        6  \n",
      "...          ...      ...  \n",
      "99995          5        5  \n",
      "99996          1        4  \n",
      "99997          1        2  \n",
      "99998          1        6  \n",
      "99999          1        6  \n",
      "\n",
      "[100000 rows x 91 columns]\n"
     ]
    }
   ],
   "source": [
    "#Q16\n",
    "df.fillna(df.select_dtypes(include='number').mean().iloc[0], inplace=True)\n",
    "print (df)"
   ]
  },
  {
   "cell_type": "code",
   "execution_count": 114,
   "metadata": {},
   "outputs": [
    {
     "name": "stdout",
     "output_type": "stream",
     "text": [
      "      numwomen sex maxdrnks vegetab1\n",
      "0          1.0   2      NaN    101.0\n",
      "1          0.0   1      NaN    101.0\n",
      "2          1.0   2      NaN    101.0\n",
      "3          1.0   2      2.0    107.0\n",
      "4          1.0   2      NaN    315.0\n",
      "...        ...  ..      ...      ...\n",
      "99995      NaN   1      NaN    101.0\n",
      "99996      NaN   2      NaN    777.0\n",
      "99997      2.0   1     77.0    204.0\n",
      "99998      NaN   1      1.0    202.0\n",
      "99999      NaN   1      1.0    202.0\n",
      "\n",
      "[100000 rows x 4 columns]\n"
     ]
    }
   ],
   "source": [
    "#Q17 \n",
    "my_df.fillna(my_df.select_dtypes(include='object').mode().iloc[0], inplace=True)\n",
    "print(my_df)"
   ]
  },
  {
   "cell_type": "code",
   "execution_count": null,
   "metadata": {},
   "outputs": [],
   "source": []
  },
  {
   "cell_type": "code",
   "execution_count": null,
   "metadata": {},
   "outputs": [],
   "source": []
  },
  {
   "cell_type": "markdown",
   "metadata": {},
   "source": [
    "*****"
   ]
  }
 ],
 "metadata": {
  "kernelspec": {
   "display_name": "Python 3",
   "language": "python",
   "name": "python3"
  },
  "language_info": {
   "codemirror_mode": {
    "name": "ipython",
    "version": 3
   },
   "file_extension": ".py",
   "mimetype": "text/x-python",
   "name": "python",
   "nbconvert_exporter": "python",
   "pygments_lexer": "ipython3",
   "version": "3.8.3"
  }
 },
 "nbformat": 4,
 "nbformat_minor": 4
}
