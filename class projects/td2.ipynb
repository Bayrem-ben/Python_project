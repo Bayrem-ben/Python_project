{
 "cells": [
  {
   "cell_type": "code",
   "execution_count": 2,
   "metadata": {},
   "outputs": [
    {
     "name": "stdout",
     "output_type": "stream",
     "text": [
      "ok\n"
     ]
    }
   ],
   "source": [
    "\n",
    "from scipy.spatial import distance as dist\n",
    "import numpy as np\n",
    "\n",
    "eye = np.array ([[283,340],[293, 337],[304, 338],[312, 346],[302, 348],[291, 346]])\n",
    "countf = 0\n",
    "nfTotal = 60\n",
    "EAR_Thres = 0.3 \n",
    "def eye_aspect_ratio(eye):\n",
    "\tA = dist.euclidean(eye[1], eye[5])\n",
    "\tB = dist.euclidean(eye[2], eye[4])\n",
    "\tC = dist.euclidean(eye[0], eye[3])\n",
    "\tear = (A + B) / (2.0 * C)\n",
    "\treturn ear\n",
    "EAR = eye_aspect_ratio(eye)\n",
    "if EAR <= EAR_Thres :\n",
    "  countf +=1\n",
    "  if countf >= nfTotal:\n",
    "    print(\"alert\")\n",
    "else :\n",
    "  countf = 0\n",
    "  print(\"ok\")"
   ]
  },
  {
   "cell_type": "code",
   "execution_count": null,
   "metadata": {},
   "outputs": [],
   "source": []
  }
 ],
 "metadata": {
  "kernelspec": {
   "display_name": "Python 3",
   "language": "python",
   "name": "python3"
  },
  "language_info": {
   "codemirror_mode": {
    "name": "ipython",
    "version": 3
   },
   "file_extension": ".py",
   "mimetype": "text/x-python",
   "name": "python",
   "nbconvert_exporter": "python",
   "pygments_lexer": "ipython3",
   "version": "3.8.3"
  }
 },
 "nbformat": 4,
 "nbformat_minor": 4
}
