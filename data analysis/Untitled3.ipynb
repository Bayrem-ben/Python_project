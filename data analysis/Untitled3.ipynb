{
 "cells": [
  {
   "cell_type": "code",
   "execution_count": 17,
   "metadata": {},
   "outputs": [
    {
     "data": {
      "text/plain": [
       "<AxesSubplot:title={'center':'Rise in Sea Level'}, xlabel='Year', ylabel='Sea Level (inches)'>"
      ]
     },
     "execution_count": 17,
     "metadata": {},
     "output_type": "execute_result"
    },
    {
     "data": {
      "image/png": "[encoded data removed]",
      "text/plain": [
       "<Figure size 720x360 with 1 Axes>"
      ]
     },
     "metadata": {
      "needs_background": "light"
     },
     "output_type": "display_data"
    }
   ],
   "source": [
    "import pandas as pd\n",
    "import matplotlib.pyplot as plt\n",
    "from scipy.stats import linregress\n",
    "\n",
    "def draw_plot():\n",
    "    # Read data from file\n",
    "    df = pd.read_csv(\"epa-sea-level.csv\")  \n",
    "\n",
    "    # Create scatter plot\n",
    "    plt.figure(figsize=(10,5))\n",
    "    x = df['Year']\n",
    "    y = df['CSIRO Adjusted Sea Level']\n",
    "    plt.scatter(x,y)\n",
    "  \n",
    "    # Create first line of best fit\n",
    "    res= linregress(x, y)\n",
    "    x = pd.Series([i for i in range(1880,2050)])\n",
    "    y = res[0] * x + res[1]\n",
    "    plt.plot(x, y, 'r')\n",
    "    \n",
    "    # Create second line of best fit\n",
    "    x = df[(df['Year']>=2000)]['Year']\n",
    "    y = df[(df['Year']>=2000)]['CSIRO Adjusted Sea Level']\n",
    "    res= linregress(x, y)\n",
    "    x = pd.Series([i for i in range(2000,2050)])\n",
    "    y = res[0] * x + res[1]\n",
    "    plt.plot(x, y, 'b')\n",
    "    \n",
    "    # Add labels and title\n",
    "    plt.xlabel(\"Year\", fontsize= 10)\n",
    "    plt.ylabel(\"Sea Level (inches)\", fontsize= 10)\n",
    "    plt.title(\"Rise in Sea Level\")\n",
    "    \n",
    "    # Save plot and return data for testing (DO NOT MODIFY)\n",
    "    plt.savefig('sea_level_plot.png')\n",
    "    return plt.gca()\n",
    "    \n",
    "draw_plot()   "
   ]
  },
  {
   "cell_type": "code",
   "execution_count": 21,
   "metadata": {},
   "outputs": [
    {
     "ename": "SyntaxError",
     "evalue": "invalid syntax (<ipython-input-21-88e665cab707>, line 10)",
     "output_type": "error",
     "traceback": [
      "\u001b[1;36m  File \u001b[1;32m\"<ipython-input-21-88e665cab707>\"\u001b[1;36m, line \u001b[1;32m10\u001b[0m\n\u001b[1;33m    the \"Year\" column as the x-axis and the \"CSIRO Adjusted Sea Level\" column as the y-axix.\u001b[0m\n\u001b[1;37m        ^\u001b[0m\n\u001b[1;31mSyntaxError\u001b[0m\u001b[1;31m:\u001b[0m invalid syntax\n"
     ]
    }
   ],
   "source": [
    "import pandas as pd\n",
    "import matplotlib.pyplot as plt\n",
    "from scipy.stats import linregress\n",
    "\n",
    "def draw_plot():\n",
    "    # Read data from file\n",
    "    df = pd.read_csv(\"epa-sea-level.csv\")  \n",
    "\n",
    "    # Create scatter plot\n",
    "    the \"Year\" column as the x-axis and the \"CSIRO Adjusted Sea Level\" column as the y-axix.\n",
    "\n",
    "    # Create first line of best fit\n",
    "\n",
    "    linregress\n",
    "    fit\n",
    "    # Create second line of best fit\n",
    "\n",
    "    from year 2000 through\n",
    "    \n",
    "    # Add labels and title\n",
    "    The x label should be \"Year\", \n",
    "    the y label should be \"Sea Level (inches)\", \n",
    "    and the title should be \"Rise in Sea Level\".\n",
    "    \n",
    "    # Save plot and return data for testing (DO NOT MODIFY)\n",
    "    plt.savefig('sea_level_plot.png')\n",
    "    return plt.gca()\n",
    "\n",
    "\n",
    "draw_plot()"
   ]
  },
  {
   "cell_type": "code",
   "execution_count": null,
   "metadata": {},
   "outputs": [],
   "source": []
  }
 ],
 "metadata": {
  "kernelspec": {
   "display_name": "Python 3",
   "language": "python",
   "name": "python3"
  },
  "language_info": {
   "codemirror_mode": {
    "name": "ipython",
    "version": 3
   },
   "file_extension": ".py",
   "mimetype": "text/x-python",
   "name": "python",
   "nbconvert_exporter": "python",
   "pygments_lexer": "ipython3",
   "version": "3.8.5"
  }
 },
 "nbformat": 4,
 "nbformat_minor": 4
}
