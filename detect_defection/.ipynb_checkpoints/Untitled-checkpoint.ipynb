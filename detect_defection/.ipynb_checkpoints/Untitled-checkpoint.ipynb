{
 "cells": [
  {
   "cell_type": "code",
   "execution_count": 2,
   "metadata": {},
   "outputs": [],
   "source": [
    "import cv2\n",
    "import imutils\n",
    "import os\n",
    "import numpy as np\n",
    "import matplotlib.pyplot as plt\n",
    "from PIL import Image\n",
    "import tensorflow as tf\n",
    "from tensorflow import keras\n",
    "from tensorflow.keras.models import Sequential\n",
    "from tensorflow.keras.layers import Dense, Conv2D, Flatten, Dropout, MaxPooling2D\n",
    "from tensorflow.keras.preprocessing.image import ImageDataGenerator"
   ]
  },
  {
   "cell_type": "code",
   "execution_count": null,
   "metadata": {},
   "outputs": [],
   "source": [
    "def load_data(pathe):\n",
    "    baseDir = os.path.dirname(os.path.abspath(\"__file__\"))\n",
    "    #train the images under the images folder\n",
    "    imageDir = os.path.join(baseDir, pathe)\n",
    "    list_img = []\n",
    "    lab = []\n",
    "    \n",
    "    for root, dirs, files in os.walk(imageDir):\n",
    "        for file in files:\n",
    "            if file.endswith(\"png\") or file.endswith(\"jpg\") or file.endswith(\"jpeg\"): \n",
    "                path = os.path.join(root, file)\n",
    "                image = Image.open(path)\n",
    "                # convert to RGB, if needed\n",
    "                gray = image.convert('L')\n",
    "                list_img.append(gray)\n",
    "                \n",
    "                if pathe == 'draimer/':\n",
    "                    lab = 0\n",
    "                else :\n",
    "                    lab = 1\n",
    "                lab.append(lab)\n",
    "    return [list_img, lab]\n",
    "    \n",
    "    \n",
    "img_conforme = load_data('draimer/')\n",
    "img_non_conforme = load_data('draimer défaut/')"
   ]
  },
  {
   "cell_type": "code",
   "execution_count": null,
   "metadata": {},
   "outputs": [],
   "source": []
  },
  {
   "cell_type": "code",
   "execution_count": null,
   "metadata": {},
   "outputs": [],
   "source": [
    "train_image_generator = ImageDataGenerator(rescale=1./255, shear_range=0.2, zoom_range=0.2, featurewise_center=True, \n",
    "                                           featurewise_std_normalization=True, rotation_range=20, width_shift_range=0.2, \n",
    "                                           height_shift_range=0.2, horizontal_flip=True)\n",
    "\n",
    "train_data_gen = train_image_generator.flow_from_directory(batch_size=128,\n",
    "                                                     directory=img_conforme,\n",
    "                                                     target_size=(240, 240),\n",
    "                                                     class_mode='binary')\n",
    "train_data_gen = train_image_generator.flow_from_directory(batch_size=128,\n",
    "                                                     directory=img_conforme,\n",
    "                                                     target_size=(240, 240),\n",
    "                                                     class_mode='binary')"
   ]
  },
  {
   "cell_type": "code",
   "execution_count": 7,
   "metadata": {},
   "outputs": [
    {
     "data": {
      "text/plain": [
       "114"
      ]
     },
     "execution_count": 7,
     "metadata": {},
     "output_type": "execute_result"
    }
   ],
   "source": [
    "def plotImages(images_arr, probabilities = False):\n",
    "    fig, axes = plt.subplots(len(images_arr), 1, figsize=(5,len(images_arr) * 3))\n",
    "    if probabilities is False:\n",
    "      for img, ax in zip( images_arr, axes):\n",
    "          ax.imshow(img)\n",
    "          ax.axis('off')\n",
    "    else:\n",
    "      for img, probability, ax in zip( images_arr, probabilities, axes):\n",
    "          ax.imshow(img)\n",
    "          ax.axis('off')\n",
    "          if probability > 0.5:\n",
    "              ax.set_title(\"%.2f\" % (probability*100) + \"% dog\")\n",
    "          else:\n",
    "              ax.set_title(\"%.2f\" % ((1-probability)*100) + \"% cat\")\n",
    "    plt.show()\n",
    "augmented_images = [train_data_gen[0][0][0] for i in range(5)]\n",
    "\n",
    "plotImages(augmented_images)"
   ]
  },
  {
   "cell_type": "code",
   "execution_count": null,
   "metadata": {},
   "outputs": [],
   "source": [
    "                #applying edge detection\n",
    "                cv2.imshow(\"edged image\",edged)\n",
    "                #threshholding\n",
    "                thresh=cv2.threshold(gray,50,255,cv2.THRESH_BINARY_INV)[1]\n",
    "                cv2.imshow(\"Thresh image\",thresh)"
   ]
  },
  {
   "cell_type": "code",
   "execution_count": null,
   "metadata": {},
   "outputs": [],
   "source": [
    "                # convert to array\n",
    "                pixels = asarray(image)\n",
    "                faces = detector(pixels)"
   ]
  },
  {
   "cell_type": "code",
   "execution_count": null,
   "metadata": {},
   "outputs": [],
   "source": [
    "train_image_generator = ImageDataGenerator(rescale=1./255, shear_range=0.2, zoom_range=0.2, featurewise_center=True, \n",
    "                                           featurewise_std_normalization=True, rotation_range=20, width_shift_range=0.2, height_shift_range=0.2, horizontal_flip=True)\n",
    "\n",
    "train_data_gen = train_image_generator.flow_from_directory(batch_size=batch_size,\n",
    "                                                     directory=train_dir,\n",
    "                                                     target_size=(IMG_HEIGHT, IMG_WIDTH),\n",
    "                                                     class_mode='binary')"
   ]
  },
  {
   "cell_type": "code",
   "execution_count": null,
   "metadata": {},
   "outputs": [],
   "source": [
    "x1 = layers.Input(shape=(90, 90, 1))\n",
    "x2 = layers.Input(shape=(90, 90, 1))\n",
    "\n",
    "# share weights both inputs\n",
    "inputs = layers.Input(shape=(90, 90, 1))\n",
    "\n",
    "feature = layers.Conv2D(32, kernel_size=3, padding='same', activation='relu')(inputs)\n",
    "feature = layers.MaxPooling2D(pool_size=2)(feature)\n",
    "\n",
    "feature = layers.Conv2D(32, kernel_size=3, padding='same', activation='relu')(feature)\n",
    "feature = layers.MaxPooling2D(pool_size=2)(feature)\n",
    "\n",
    "feature_model = Model(inputs=inputs, outputs=feature)\n",
    "\n",
    "# 2 feature models that sharing weights\n",
    "x1_net = feature_model(x1)\n",
    "x2_net = feature_model(x2)\n",
    "\n",
    "# subtract features\n",
    "net = layers.Subtract()([x1_net, x2_net])\n",
    "\n",
    "net = layers.Conv2D(32, kernel_size=3, padding='same', activation='relu')(net)\n",
    "net = layers.MaxPooling2D(pool_size=2)(net)\n",
    "\n",
    "net = layers.Flatten()(net)\n",
    "\n",
    "net = layers.Dense(64, activation='relu')(net)\n",
    "\n",
    "net = layers.Dense(1, activation='sigmoid')(net)\n",
    "\n",
    "model = Model(inputs=[x1, x2], outputs=net)\n",
    "\n",
    "model.compile(loss='binary_crossentropy', optimizer='adam', metrics=['acc'])\n",
    "\n",
    "model.summary()"
   ]
  },
  {
   "cell_type": "code",
   "execution_count": null,
   "metadata": {},
   "outputs": [],
   "source": [
    "history = model.fit_generator(train_gen, epochs=15, validation_data=val_gen)"
   ]
  },
  {
   "cell_type": "code",
   "execution_count": null,
   "metadata": {},
   "outputs": [],
   "source": []
  }
 ],
 "metadata": {
  "kernelspec": {
   "display_name": "Python 3",
   "language": "python",
   "name": "python3"
  },
  "language_info": {
   "codemirror_mode": {
    "name": "ipython",
    "version": 3
   },
   "file_extension": ".py",
   "mimetype": "text/x-python",
   "name": "python",
   "nbconvert_exporter": "python",
   "pygments_lexer": "ipython3",
   "version": "3.8.5"
  }
 },
 "nbformat": 4,
 "nbformat_minor": 4
}
