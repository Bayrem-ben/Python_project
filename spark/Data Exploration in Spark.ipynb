{
 "cells": [
  {
   "cell_type": "code",
   "execution_count": 1,
   "id": "58c4c8d7-ef51-46d8-be24-f6c5232b1283",
   "metadata": {},
   "outputs": [],
   "source": [
    "from pyspark.sql import SQLContext"
   ]
  },
  {
   "cell_type": "code",
   "execution_count": 2,
   "id": "f7a91b5b-03b9-48c5-a854-7a829f7f7386",
   "metadata": {},
   "outputs": [
    {
     "ename": "NameError",
     "evalue": "name 'sc' is not defined",
     "output_type": "error",
     "traceback": [
      "\u001b[1;31m---------------------------------------------------------------------------\u001b[0m",
      "\u001b[1;31mNameError\u001b[0m                                 Traceback (most recent call last)",
      "\u001b[1;32m<ipython-input-2-83252e1df9a1>\u001b[0m in \u001b[0;36m<module>\u001b[1;34m\u001b[0m\n\u001b[1;32m----> 1\u001b[1;33m \u001b[0msqlcontext\u001b[0m \u001b[1;33m=\u001b[0m \u001b[0mSQLContext\u001b[0m\u001b[1;33m(\u001b[0m\u001b[0msc\u001b[0m\u001b[1;33m)\u001b[0m\u001b[1;33m\u001b[0m\u001b[1;33m\u001b[0m\u001b[0m\n\u001b[0m",
      "\u001b[1;31mNameError\u001b[0m: name 'sc' is not defined"
     ]
    }
   ],
   "source": [
    "sqlcontext = SQLContext(sc)"
   ]
  },
  {
   "cell_type": "code",
   "execution_count": null,
   "id": "ead12f8a-a46b-43f3-a9e0-eb91a92ec10b",
   "metadata": {},
   "outputs": [],
   "source": [
    "df = sqlcontext.read.load('daily_weather.csv', format='com.databricks.spark.csv', header='true', inferschema='true')"
   ]
  },
  {
   "cell_type": "code",
   "execution_count": null,
   "id": "57a0853d-1cb3-4010-8484-8430f129a70d",
   "metadata": {},
   "outputs": [],
   "source": [
    "df.columns"
   ]
  },
  {
   "cell_type": "code",
   "execution_count": null,
   "id": "4a8011a9-05ab-48b1-8fbe-b98d890c3c71",
   "metadata": {},
   "outputs": [],
   "source": [
    "df.printSchema()"
   ]
  },
  {
   "cell_type": "code",
   "execution_count": null,
   "id": "36fd5ddc-d563-458c-a651-7b6d6f3ea3aa",
   "metadata": {},
   "outputs": [],
   "source": [
    "df.describe().toPandas().transpose()"
   ]
  },
  {
   "cell_type": "code",
   "execution_count": null,
   "id": "31f5780f-1bdc-435a-9d8b-3172d9c46f36",
   "metadata": {},
   "outputs": [],
   "source": [
    "df.describe('air_pressure_9am').show()"
   ]
  },
  {
   "cell_type": "code",
   "execution_count": null,
   "id": "52f27d88-90d9-48dd-83ea-3c59e44a0f58",
   "metadata": {},
   "outputs": [],
   "source": [
    "len(df.columns)"
   ]
  },
  {
   "cell_type": "code",
   "execution_count": null,
   "id": "147f848c-844b-4188-8b0e-48949abcb43e",
   "metadata": {},
   "outputs": [],
   "source": [
    "df.count()"
   ]
  },
  {
   "cell_type": "code",
   "execution_count": null,
   "id": "fe758124-4d4e-4fad-b4bc-fece30dfff40",
   "metadata": {},
   "outputs": [],
   "source": [
    "df2 = df.na.drop(subset=['air_pressure_9am'])"
   ]
  },
  {
   "cell_type": "code",
   "execution_count": null,
   "id": "c77cb797-21e4-47d5-9e35-925fbda5be30",
   "metadata": {},
   "outputs": [],
   "source": [
    "df2.count()"
   ]
  },
  {
   "cell_type": "code",
   "execution_count": null,
   "id": "c5b80dad-6707-4f93-b11b-9c33ca91d2e0",
   "metadata": {},
   "outputs": [],
   "source": [
    "df2.start.corr(\"rain_accumulation_9am\", \"rain_duration_9am\")"
   ]
  }
 ],
 "metadata": {
  "kernelspec": {
   "display_name": "Python 3",
   "language": "python",
   "name": "python3"
  },
  "language_info": {
   "codemirror_mode": {
    "name": "ipython",
    "version": 3
   },
   "file_extension": ".py",
   "mimetype": "text/x-python",
   "name": "python",
   "nbconvert_exporter": "python",
   "pygments_lexer": "ipython3",
   "version": "3.8.8"
  }
 },
 "nbformat": 4,
 "nbformat_minor": 5
}
